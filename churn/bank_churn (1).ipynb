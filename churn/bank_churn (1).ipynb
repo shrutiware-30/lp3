{
 "cells": [
  {
   "cell_type": "code",
   "execution_count": 3,
   "id": "47781660",
   "metadata": {},
   "outputs": [
    {
     "name": "stderr",
     "output_type": "stream",
     "text": [
      "<frozen importlib._bootstrap>:219: RuntimeWarning: numpy.ndarray size changed, may indicate binary incompatibility. Expected 80 from C header, got 96 from PyObject\n"
     ]
    }
   ],
   "source": [
    "import pandas as pd\n",
    "import numpy as np\n",
    "import seaborn as sns\n",
    "import matplotlib.pyplot as plt\n",
    "import tensorflow as tf"
   ]
  },
  {
   "cell_type": "code",
   "execution_count": 4,
   "id": "8ef3725f",
   "metadata": {},
   "outputs": [
    {
     "data": {
      "text/html": [
       "<div>\n",
       "<style scoped>\n",
       "    .dataframe tbody tr th:only-of-type {\n",
       "        vertical-align: middle;\n",
       "    }\n",
       "\n",
       "    .dataframe tbody tr th {\n",
       "        vertical-align: top;\n",
       "    }\n",
       "\n",
       "    .dataframe thead th {\n",
       "        text-align: right;\n",
       "    }\n",
       "</style>\n",
       "<table border=\"1\" class=\"dataframe\">\n",
       "  <thead>\n",
       "    <tr style=\"text-align: right;\">\n",
       "      <th></th>\n",
       "      <th>RowNumber</th>\n",
       "      <th>CustomerId</th>\n",
       "      <th>Surname</th>\n",
       "      <th>CreditScore</th>\n",
       "      <th>Geography</th>\n",
       "      <th>Gender</th>\n",
       "      <th>Age</th>\n",
       "      <th>Tenure</th>\n",
       "      <th>Balance</th>\n",
       "      <th>NumOfProducts</th>\n",
       "      <th>HasCrCard</th>\n",
       "      <th>IsActiveMember</th>\n",
       "      <th>EstimatedSalary</th>\n",
       "      <th>Exited</th>\n",
       "    </tr>\n",
       "  </thead>\n",
       "  <tbody>\n",
       "    <tr>\n",
       "      <th>0</th>\n",
       "      <td>1</td>\n",
       "      <td>15634602</td>\n",
       "      <td>Hargrave</td>\n",
       "      <td>619</td>\n",
       "      <td>France</td>\n",
       "      <td>Female</td>\n",
       "      <td>42</td>\n",
       "      <td>2</td>\n",
       "      <td>0.00</td>\n",
       "      <td>1</td>\n",
       "      <td>1</td>\n",
       "      <td>1</td>\n",
       "      <td>101348.88</td>\n",
       "      <td>1</td>\n",
       "    </tr>\n",
       "    <tr>\n",
       "      <th>1</th>\n",
       "      <td>2</td>\n",
       "      <td>15647311</td>\n",
       "      <td>Hill</td>\n",
       "      <td>608</td>\n",
       "      <td>Spain</td>\n",
       "      <td>Female</td>\n",
       "      <td>41</td>\n",
       "      <td>1</td>\n",
       "      <td>83807.86</td>\n",
       "      <td>1</td>\n",
       "      <td>0</td>\n",
       "      <td>1</td>\n",
       "      <td>112542.58</td>\n",
       "      <td>0</td>\n",
       "    </tr>\n",
       "    <tr>\n",
       "      <th>2</th>\n",
       "      <td>3</td>\n",
       "      <td>15619304</td>\n",
       "      <td>Onio</td>\n",
       "      <td>502</td>\n",
       "      <td>France</td>\n",
       "      <td>Female</td>\n",
       "      <td>42</td>\n",
       "      <td>8</td>\n",
       "      <td>159660.80</td>\n",
       "      <td>3</td>\n",
       "      <td>1</td>\n",
       "      <td>0</td>\n",
       "      <td>113931.57</td>\n",
       "      <td>1</td>\n",
       "    </tr>\n",
       "    <tr>\n",
       "      <th>3</th>\n",
       "      <td>4</td>\n",
       "      <td>15701354</td>\n",
       "      <td>Boni</td>\n",
       "      <td>699</td>\n",
       "      <td>France</td>\n",
       "      <td>Female</td>\n",
       "      <td>39</td>\n",
       "      <td>1</td>\n",
       "      <td>0.00</td>\n",
       "      <td>2</td>\n",
       "      <td>0</td>\n",
       "      <td>0</td>\n",
       "      <td>93826.63</td>\n",
       "      <td>0</td>\n",
       "    </tr>\n",
       "    <tr>\n",
       "      <th>4</th>\n",
       "      <td>5</td>\n",
       "      <td>15737888</td>\n",
       "      <td>Mitchell</td>\n",
       "      <td>850</td>\n",
       "      <td>Spain</td>\n",
       "      <td>Female</td>\n",
       "      <td>43</td>\n",
       "      <td>2</td>\n",
       "      <td>125510.82</td>\n",
       "      <td>1</td>\n",
       "      <td>1</td>\n",
       "      <td>1</td>\n",
       "      <td>79084.10</td>\n",
       "      <td>0</td>\n",
       "    </tr>\n",
       "  </tbody>\n",
       "</table>\n",
       "</div>"
      ],
      "text/plain": [
       "   RowNumber  CustomerId   Surname  CreditScore Geography  Gender  Age  \\\n",
       "0          1    15634602  Hargrave          619    France  Female   42   \n",
       "1          2    15647311      Hill          608     Spain  Female   41   \n",
       "2          3    15619304      Onio          502    France  Female   42   \n",
       "3          4    15701354      Boni          699    France  Female   39   \n",
       "4          5    15737888  Mitchell          850     Spain  Female   43   \n",
       "\n",
       "   Tenure    Balance  NumOfProducts  HasCrCard  IsActiveMember  \\\n",
       "0       2       0.00              1          1               1   \n",
       "1       1   83807.86              1          0               1   \n",
       "2       8  159660.80              3          1               0   \n",
       "3       1       0.00              2          0               0   \n",
       "4       2  125510.82              1          1               1   \n",
       "\n",
       "   EstimatedSalary  Exited  \n",
       "0        101348.88       1  \n",
       "1        112542.58       0  \n",
       "2        113931.57       1  \n",
       "3         93826.63       0  \n",
       "4         79084.10       0  "
      ]
     },
     "execution_count": 4,
     "metadata": {},
     "output_type": "execute_result"
    }
   ],
   "source": [
    "df = pd.read_csv('Churn_Modelling.csv')\n",
    "df.head()"
   ]
  },
  {
   "cell_type": "code",
   "execution_count": 5,
   "id": "8a502a77",
   "metadata": {},
   "outputs": [
    {
     "name": "stdout",
     "output_type": "stream",
     "text": [
      "<class 'pandas.core.frame.DataFrame'>\n",
      "RangeIndex: 10000 entries, 0 to 9999\n",
      "Data columns (total 14 columns):\n",
      " #   Column           Non-Null Count  Dtype  \n",
      "---  ------           --------------  -----  \n",
      " 0   RowNumber        10000 non-null  int64  \n",
      " 1   CustomerId       10000 non-null  int64  \n",
      " 2   Surname          10000 non-null  object \n",
      " 3   CreditScore      10000 non-null  int64  \n",
      " 4   Geography        10000 non-null  object \n",
      " 5   Gender           10000 non-null  object \n",
      " 6   Age              10000 non-null  int64  \n",
      " 7   Tenure           10000 non-null  int64  \n",
      " 8   Balance          10000 non-null  float64\n",
      " 9   NumOfProducts    10000 non-null  int64  \n",
      " 10  HasCrCard        10000 non-null  int64  \n",
      " 11  IsActiveMember   10000 non-null  int64  \n",
      " 12  EstimatedSalary  10000 non-null  float64\n",
      " 13  Exited           10000 non-null  int64  \n",
      "dtypes: float64(2), int64(9), object(3)\n",
      "memory usage: 1.1+ MB\n"
     ]
    }
   ],
   "source": [
    "df.info()"
   ]
  },
  {
   "cell_type": "code",
   "execution_count": 6,
   "id": "6fec73e5",
   "metadata": {},
   "outputs": [
    {
     "data": {
      "image/png": "[encoded data removed]",
      "text/plain": [
       "<Figure size 432x288 with 1 Axes>"
      ]
     },
     "metadata": {
      "needs_background": "light"
     },
     "output_type": "display_data"
    }
   ],
   "source": [
    "plt.xlabel('Exited')\n",
    "plt.ylabel('Count')\n",
    "df['Exited'].value_counts().plot.bar()\n",
    "plt.show()"
   ]
  },
  {
   "cell_type": "code",
   "execution_count": 7,
   "id": "2e1607ba",
   "metadata": {},
   "outputs": [
    {
     "data": {
      "text/plain": [
       "France     5014\n",
       "Germany    2509\n",
       "Spain      2477\n",
       "Name: Geography, dtype: int64"
      ]
     },
     "execution_count": 7,
     "metadata": {},
     "output_type": "execute_result"
    }
   ],
   "source": [
    "df['Geography'].value_counts()"
   ]
  },
  {
   "cell_type": "code",
   "execution_count": 8,
   "id": "3c36810b",
   "metadata": {},
   "outputs": [],
   "source": [
    "df = pd.concat([df,pd.get_dummies(df['Geography'],prefix='Geo')],axis=1)"
   ]
  },
  {
   "cell_type": "code",
   "execution_count": 9,
   "id": "b927ee76",
   "metadata": {},
   "outputs": [],
   "source": [
    "df = pd.concat([df,pd.get_dummies(df['Gender'])],axis=1)"
   ]
  },
  {
   "cell_type": "code",
   "execution_count": 10,
   "id": "6c2dd69e",
   "metadata": {},
   "outputs": [
    {
     "name": "stdout",
     "output_type": "stream",
     "text": [
      "<class 'pandas.core.frame.DataFrame'>\n",
      "RangeIndex: 10000 entries, 0 to 9999\n",
      "Data columns (total 19 columns):\n",
      " #   Column           Non-Null Count  Dtype  \n",
      "---  ------           --------------  -----  \n",
      " 0   RowNumber        10000 non-null  int64  \n",
      " 1   CustomerId       10000 non-null  int64  \n",
      " 2   Surname          10000 non-null  object \n",
      " 3   CreditScore      10000 non-null  int64  \n",
      " 4   Geography        10000 non-null  object \n",
      " 5   Gender           10000 non-null  object \n",
      " 6   Age              10000 non-null  int64  \n",
      " 7   Tenure           10000 non-null  int64  \n",
      " 8   Balance          10000 non-null  float64\n",
      " 9   NumOfProducts    10000 non-null  int64  \n",
      " 10  HasCrCard        10000 non-null  int64  \n",
      " 11  IsActiveMember   10000 non-null  int64  \n",
      " 12  EstimatedSalary  10000 non-null  float64\n",
      " 13  Exited           10000 non-null  int64  \n",
      " 14  Geo_France       10000 non-null  uint8  \n",
      " 15  Geo_Germany      10000 non-null  uint8  \n",
      " 16  Geo_Spain        10000 non-null  uint8  \n",
      " 17  Female           10000 non-null  uint8  \n",
      " 18  Male             10000 non-null  uint8  \n",
      "dtypes: float64(2), int64(9), object(3), uint8(5)\n",
      "memory usage: 1.1+ MB\n"
     ]
    }
   ],
   "source": [
    "df.info()"
   ]
  },
  {
   "cell_type": "code",
   "execution_count": 11,
   "id": "18a13462",
   "metadata": {},
   "outputs": [],
   "source": [
    "df.drop(columns=['RowNumber','CustomerId','Surname','Geography','Gender'],inplace=True)"
   ]
  },
  {
   "cell_type": "code",
   "execution_count": 12,
   "id": "6b1fbd04",
   "metadata": {},
   "outputs": [
    {
     "data": {
      "text/html": [
       "<div>\n",
       "<style scoped>\n",
       "    .dataframe tbody tr th:only-of-type {\n",
       "        vertical-align: middle;\n",
       "    }\n",
       "\n",
       "    .dataframe tbody tr th {\n",
       "        vertical-align: top;\n",
       "    }\n",
       "\n",
       "    .dataframe thead th {\n",
       "        text-align: right;\n",
       "    }\n",
       "</style>\n",
       "<table border=\"1\" class=\"dataframe\">\n",
       "  <thead>\n",
       "    <tr style=\"text-align: right;\">\n",
       "      <th></th>\n",
       "      <th>CreditScore</th>\n",
       "      <th>Age</th>\n",
       "      <th>Tenure</th>\n",
       "      <th>Balance</th>\n",
       "      <th>NumOfProducts</th>\n",
       "      <th>HasCrCard</th>\n",
       "      <th>IsActiveMember</th>\n",
       "      <th>EstimatedSalary</th>\n",
       "      <th>Exited</th>\n",
       "      <th>Geo_France</th>\n",
       "      <th>Geo_Germany</th>\n",
       "      <th>Geo_Spain</th>\n",
       "      <th>Female</th>\n",
       "      <th>Male</th>\n",
       "    </tr>\n",
       "  </thead>\n",
       "  <tbody>\n",
       "    <tr>\n",
       "      <th>0</th>\n",
       "      <td>619</td>\n",
       "      <td>42</td>\n",
       "      <td>2</td>\n",
       "      <td>0.00</td>\n",
       "      <td>1</td>\n",
       "      <td>1</td>\n",
       "      <td>1</td>\n",
       "      <td>101348.88</td>\n",
       "      <td>1</td>\n",
       "      <td>1</td>\n",
       "      <td>0</td>\n",
       "      <td>0</td>\n",
       "      <td>1</td>\n",
       "      <td>0</td>\n",
       "    </tr>\n",
       "    <tr>\n",
       "      <th>1</th>\n",
       "      <td>608</td>\n",
       "      <td>41</td>\n",
       "      <td>1</td>\n",
       "      <td>83807.86</td>\n",
       "      <td>1</td>\n",
       "      <td>0</td>\n",
       "      <td>1</td>\n",
       "      <td>112542.58</td>\n",
       "      <td>0</td>\n",
       "      <td>0</td>\n",
       "      <td>0</td>\n",
       "      <td>1</td>\n",
       "      <td>1</td>\n",
       "      <td>0</td>\n",
       "    </tr>\n",
       "    <tr>\n",
       "      <th>2</th>\n",
       "      <td>502</td>\n",
       "      <td>42</td>\n",
       "      <td>8</td>\n",
       "      <td>159660.80</td>\n",
       "      <td>3</td>\n",
       "      <td>1</td>\n",
       "      <td>0</td>\n",
       "      <td>113931.57</td>\n",
       "      <td>1</td>\n",
       "      <td>1</td>\n",
       "      <td>0</td>\n",
       "      <td>0</td>\n",
       "      <td>1</td>\n",
       "      <td>0</td>\n",
       "    </tr>\n",
       "    <tr>\n",
       "      <th>3</th>\n",
       "      <td>699</td>\n",
       "      <td>39</td>\n",
       "      <td>1</td>\n",
       "      <td>0.00</td>\n",
       "      <td>2</td>\n",
       "      <td>0</td>\n",
       "      <td>0</td>\n",
       "      <td>93826.63</td>\n",
       "      <td>0</td>\n",
       "      <td>1</td>\n",
       "      <td>0</td>\n",
       "      <td>0</td>\n",
       "      <td>1</td>\n",
       "      <td>0</td>\n",
       "    </tr>\n",
       "    <tr>\n",
       "      <th>4</th>\n",
       "      <td>850</td>\n",
       "      <td>43</td>\n",
       "      <td>2</td>\n",
       "      <td>125510.82</td>\n",
       "      <td>1</td>\n",
       "      <td>1</td>\n",
       "      <td>1</td>\n",
       "      <td>79084.10</td>\n",
       "      <td>0</td>\n",
       "      <td>0</td>\n",
       "      <td>0</td>\n",
       "      <td>1</td>\n",
       "      <td>1</td>\n",
       "      <td>0</td>\n",
       "    </tr>\n",
       "  </tbody>\n",
       "</table>\n",
       "</div>"
      ],
      "text/plain": [
       "   CreditScore  Age  Tenure    Balance  NumOfProducts  HasCrCard  \\\n",
       "0          619   42       2       0.00              1          1   \n",
       "1          608   41       1   83807.86              1          0   \n",
       "2          502   42       8  159660.80              3          1   \n",
       "3          699   39       1       0.00              2          0   \n",
       "4          850   43       2  125510.82              1          1   \n",
       "\n",
       "   IsActiveMember  EstimatedSalary  Exited  Geo_France  Geo_Germany  \\\n",
       "0               1        101348.88       1           1            0   \n",
       "1               1        112542.58       0           0            0   \n",
       "2               0        113931.57       1           1            0   \n",
       "3               0         93826.63       0           1            0   \n",
       "4               1         79084.10       0           0            0   \n",
       "\n",
       "   Geo_Spain  Female  Male  \n",
       "0          0       1     0  \n",
       "1          1       1     0  \n",
       "2          0       1     0  \n",
       "3          0       1     0  \n",
       "4          1       1     0  "
      ]
     },
     "execution_count": 12,
     "metadata": {},
     "output_type": "execute_result"
    }
   ],
   "source": [
    "df.head()"
   ]
  },
  {
   "cell_type": "markdown",
   "id": "1ef3f041",
   "metadata": {},
   "source": [
    "### Splitting Data"
   ]
  },
  {
   "cell_type": "code",
   "execution_count": 13,
   "id": "d8c1e14e",
   "metadata": {},
   "outputs": [],
   "source": [
    "y = df['Exited'].values\n",
    "x = df.loc[:,df.columns != 'Exited'].values"
   ]
  },
  {
   "cell_type": "code",
   "execution_count": 14,
   "id": "f513b1b9",
   "metadata": {},
   "outputs": [],
   "source": [
    "from sklearn.model_selection import train_test_split\n",
    "x_train,x_test,y_train,y_test = train_test_split(x,y,random_state=20,test_size=0.25)"
   ]
  },
  {
   "cell_type": "markdown",
   "id": "d8205cea",
   "metadata": {},
   "source": [
    "### Scaling Data"
   ]
  },
  {
   "cell_type": "code",
   "execution_count": 15,
   "id": "fb62677e",
   "metadata": {},
   "outputs": [],
   "source": [
    "from sklearn.preprocessing import StandardScaler\n",
    "std_x = StandardScaler()\n",
    "x_train = std_x.fit_transform(x_train)\n",
    "x_test = std_x.transform(x_test)"
   ]
  },
  {
   "cell_type": "code",
   "execution_count": 16,
   "id": "19cf27ef",
   "metadata": {},
   "outputs": [
    {
     "data": {
      "text/plain": [
       "(7500, 13)"
      ]
     },
     "execution_count": 16,
     "metadata": {},
     "output_type": "execute_result"
    }
   ],
   "source": [
    "x_train.shape"
   ]
  },
  {
   "cell_type": "markdown",
   "id": "4450abf6",
   "metadata": {},
   "source": [
    "### Tensorflow Model - Neural Network Classifier"
   ]
  },
  {
   "cell_type": "code",
   "execution_count": 17,
   "id": "1abf2fb9",
   "metadata": {},
   "outputs": [],
   "source": [
    "import tensorflow as tf\n",
    "from tensorflow.keras.layers import Dense,Conv1D,Flatten\n",
    "from tensorflow.keras.models import Sequential, Model"
   ]
  },
  {
   "cell_type": "code",
   "execution_count": 18,
   "id": "ca54c075",
   "metadata": {},
   "outputs": [],
   "source": [
    "model=Sequential()\n",
    "model.add(Flatten(input_shape=(13,)))\n",
    "model.add(Dense(100,activation='relu'))\n",
    "model.add(Dense(1,activation='sigmoid'))"
   ]
  },
  {
   "cell_type": "code",
   "execution_count": 19,
   "id": "dcd36ce7",
   "metadata": {},
   "outputs": [],
   "source": [
    "model.compile(optimizer='adam',metrics=['accuracy'],loss='BinaryCrossentropy')"
   ]
  },
  {
   "cell_type": "code",
   "execution_count": 20,
   "id": "628884fd",
   "metadata": {},
   "outputs": [
    {
     "name": "stdout",
     "output_type": "stream",
     "text": [
      "Epoch 1/100\n",
      "106/106 [==============================] - 2s 2ms/step - loss: 0.4951 - accuracy: 0.7816 - val_loss: 0.4189 - val_accuracy: 0.8267\n",
      "Epoch 2/100\n",
      "106/106 [==============================] - 0s 1ms/step - loss: 0.4271 - accuracy: 0.8121 - val_loss: 0.3973 - val_accuracy: 0.8413\n",
      "Epoch 3/100\n",
      "106/106 [==============================] - 0s 1ms/step - loss: 0.4093 - accuracy: 0.8239 - val_loss: 0.3797 - val_accuracy: 0.8400\n",
      "Epoch 4/100\n",
      "106/106 [==============================] - 0s 982us/step - loss: 0.3929 - accuracy: 0.8326 - val_loss: 0.3654 - val_accuracy: 0.8560\n",
      "Epoch 5/100\n",
      "106/106 [==============================] - 0s 952us/step - loss: 0.3792 - accuracy: 0.8397 - val_loss: 0.3482 - val_accuracy: 0.8627\n",
      "Epoch 6/100\n",
      "106/106 [==============================] - 0s 993us/step - loss: 0.3683 - accuracy: 0.8431 - val_loss: 0.3421 - val_accuracy: 0.8787\n",
      "Epoch 7/100\n",
      "106/106 [==============================] - 0s 1ms/step - loss: 0.3620 - accuracy: 0.8479 - val_loss: 0.3311 - val_accuracy: 0.8720\n",
      "Epoch 8/100\n",
      "106/106 [==============================] - 0s 975us/step - loss: 0.3564 - accuracy: 0.8508 - val_loss: 0.3316 - val_accuracy: 0.8747\n",
      "Epoch 9/100\n",
      "106/106 [==============================] - 0s 975us/step - loss: 0.3534 - accuracy: 0.8532 - val_loss: 0.3232 - val_accuracy: 0.8733\n",
      "Epoch 10/100\n",
      "106/106 [==============================] - 0s 933us/step - loss: 0.3507 - accuracy: 0.8553 - val_loss: 0.3258 - val_accuracy: 0.8787\n",
      "Epoch 11/100\n",
      "106/106 [==============================] - 0s 977us/step - loss: 0.3485 - accuracy: 0.8557 - val_loss: 0.3198 - val_accuracy: 0.8787\n",
      "Epoch 12/100\n",
      "106/106 [==============================] - 0s 1ms/step - loss: 0.3466 - accuracy: 0.8591 - val_loss: 0.3172 - val_accuracy: 0.8720\n",
      "Epoch 13/100\n",
      "106/106 [==============================] - 0s 994us/step - loss: 0.3452 - accuracy: 0.8570 - val_loss: 0.3170 - val_accuracy: 0.8827\n",
      "Epoch 14/100\n",
      "106/106 [==============================] - 0s 1ms/step - loss: 0.3448 - accuracy: 0.8561 - val_loss: 0.3203 - val_accuracy: 0.8773\n",
      "Epoch 15/100\n",
      "106/106 [==============================] - 0s 1ms/step - loss: 0.3425 - accuracy: 0.8597 - val_loss: 0.3159 - val_accuracy: 0.8787\n",
      "Epoch 16/100\n",
      "106/106 [==============================] - 0s 1ms/step - loss: 0.3411 - accuracy: 0.8578 - val_loss: 0.3169 - val_accuracy: 0.8773\n",
      "Epoch 17/100\n",
      "106/106 [==============================] - 0s 1ms/step - loss: 0.3411 - accuracy: 0.8585 - val_loss: 0.3155 - val_accuracy: 0.8747\n",
      "Epoch 18/100\n",
      "106/106 [==============================] - 0s 1ms/step - loss: 0.3398 - accuracy: 0.8579 - val_loss: 0.3195 - val_accuracy: 0.8747\n",
      "Epoch 19/100\n",
      "106/106 [==============================] - 0s 982us/step - loss: 0.3386 - accuracy: 0.8604 - val_loss: 0.3146 - val_accuracy: 0.8827\n",
      "Epoch 20/100\n",
      "106/106 [==============================] - 0s 1ms/step - loss: 0.3377 - accuracy: 0.8601 - val_loss: 0.3171 - val_accuracy: 0.8827\n",
      "Epoch 21/100\n",
      "106/106 [==============================] - 0s 983us/step - loss: 0.3377 - accuracy: 0.8610 - val_loss: 0.3184 - val_accuracy: 0.8747\n",
      "Epoch 22/100\n",
      "106/106 [==============================] - 0s 1ms/step - loss: 0.3372 - accuracy: 0.8597 - val_loss: 0.3155 - val_accuracy: 0.8800\n",
      "Epoch 23/100\n",
      "106/106 [==============================] - 0s 1ms/step - loss: 0.3363 - accuracy: 0.8610 - val_loss: 0.3185 - val_accuracy: 0.8760\n",
      "Epoch 24/100\n",
      "106/106 [==============================] - 0s 1ms/step - loss: 0.3346 - accuracy: 0.8604 - val_loss: 0.3147 - val_accuracy: 0.8800\n",
      "Epoch 25/100\n",
      "106/106 [==============================] - 0s 979us/step - loss: 0.3348 - accuracy: 0.8599 - val_loss: 0.3160 - val_accuracy: 0.8773\n",
      "Epoch 26/100\n",
      "106/106 [==============================] - 0s 987us/step - loss: 0.3346 - accuracy: 0.8603 - val_loss: 0.3152 - val_accuracy: 0.8853\n",
      "Epoch 27/100\n",
      "106/106 [==============================] - 0s 970us/step - loss: 0.3338 - accuracy: 0.8641 - val_loss: 0.3153 - val_accuracy: 0.8827\n",
      "Epoch 28/100\n",
      "106/106 [==============================] - 0s 981us/step - loss: 0.3328 - accuracy: 0.8609 - val_loss: 0.3122 - val_accuracy: 0.8840\n",
      "Epoch 29/100\n",
      "106/106 [==============================] - 0s 1ms/step - loss: 0.3326 - accuracy: 0.8622 - val_loss: 0.3204 - val_accuracy: 0.8693\n",
      "Epoch 30/100\n",
      "106/106 [==============================] - 0s 1ms/step - loss: 0.3321 - accuracy: 0.8631 - val_loss: 0.3143 - val_accuracy: 0.8787\n",
      "Epoch 31/100\n",
      "106/106 [==============================] - 0s 977us/step - loss: 0.3316 - accuracy: 0.8633 - val_loss: 0.3184 - val_accuracy: 0.8800\n",
      "Epoch 32/100\n",
      "106/106 [==============================] - 0s 995us/step - loss: 0.3309 - accuracy: 0.8619 - val_loss: 0.3129 - val_accuracy: 0.8813\n",
      "Epoch 33/100\n",
      "106/106 [==============================] - 0s 993us/step - loss: 0.3314 - accuracy: 0.8641 - val_loss: 0.3202 - val_accuracy: 0.8760\n",
      "Epoch 34/100\n",
      "106/106 [==============================] - 0s 1ms/step - loss: 0.3299 - accuracy: 0.8659 - val_loss: 0.3144 - val_accuracy: 0.8840\n",
      "Epoch 35/100\n",
      "106/106 [==============================] - 0s 1ms/step - loss: 0.3294 - accuracy: 0.8621 - val_loss: 0.3172 - val_accuracy: 0.8747\n",
      "Epoch 36/100\n",
      "106/106 [==============================] - 0s 974us/step - loss: 0.3305 - accuracy: 0.8625 - val_loss: 0.3140 - val_accuracy: 0.8773\n",
      "Epoch 37/100\n",
      "106/106 [==============================] - 0s 960us/step - loss: 0.3286 - accuracy: 0.8647 - val_loss: 0.3143 - val_accuracy: 0.8773\n",
      "Epoch 38/100\n",
      "106/106 [==============================] - 0s 958us/step - loss: 0.3289 - accuracy: 0.8656 - val_loss: 0.3209 - val_accuracy: 0.8707\n",
      "Epoch 39/100\n",
      "106/106 [==============================] - 0s 958us/step - loss: 0.3285 - accuracy: 0.8630 - val_loss: 0.3190 - val_accuracy: 0.8787\n",
      "Epoch 40/100\n",
      "106/106 [==============================] - 0s 996us/step - loss: 0.3288 - accuracy: 0.8630 - val_loss: 0.3148 - val_accuracy: 0.8800\n",
      "Epoch 41/100\n",
      "106/106 [==============================] - 0s 960us/step - loss: 0.3266 - accuracy: 0.8643 - val_loss: 0.3103 - val_accuracy: 0.8867\n",
      "Epoch 42/100\n",
      "106/106 [==============================] - 0s 1ms/step - loss: 0.3273 - accuracy: 0.8653 - val_loss: 0.3151 - val_accuracy: 0.8787\n",
      "Epoch 43/100\n",
      "106/106 [==============================] - 0s 1ms/step - loss: 0.3271 - accuracy: 0.8658 - val_loss: 0.3149 - val_accuracy: 0.8787\n",
      "Epoch 44/100\n",
      "106/106 [==============================] - 0s 984us/step - loss: 0.3259 - accuracy: 0.8673 - val_loss: 0.3196 - val_accuracy: 0.8707\n",
      "Epoch 45/100\n",
      "106/106 [==============================] - 0s 962us/step - loss: 0.3259 - accuracy: 0.8671 - val_loss: 0.3196 - val_accuracy: 0.8773\n",
      "Epoch 46/100\n",
      "106/106 [==============================] - 0s 960us/step - loss: 0.3250 - accuracy: 0.8656 - val_loss: 0.3145 - val_accuracy: 0.8827\n",
      "Epoch 47/100\n",
      "106/106 [==============================] - 0s 976us/step - loss: 0.3246 - accuracy: 0.8679 - val_loss: 0.3102 - val_accuracy: 0.8813\n",
      "Epoch 48/100\n",
      "106/106 [==============================] - 0s 992us/step - loss: 0.3245 - accuracy: 0.8670 - val_loss: 0.3181 - val_accuracy: 0.8840\n",
      "Epoch 49/100\n",
      "106/106 [==============================] - 0s 995us/step - loss: 0.3246 - accuracy: 0.8668 - val_loss: 0.3167 - val_accuracy: 0.8773\n",
      "Epoch 50/100\n",
      "106/106 [==============================] - 0s 958us/step - loss: 0.3236 - accuracy: 0.8643 - val_loss: 0.3197 - val_accuracy: 0.8733\n",
      "Epoch 51/100\n",
      "106/106 [==============================] - 0s 1ms/step - loss: 0.3230 - accuracy: 0.8668 - val_loss: 0.3130 - val_accuracy: 0.8787\n",
      "Epoch 52/100\n",
      "106/106 [==============================] - 0s 1ms/step - loss: 0.3227 - accuracy: 0.8664 - val_loss: 0.3142 - val_accuracy: 0.8800\n",
      "Epoch 53/100\n",
      "106/106 [==============================] - 0s 1ms/step - loss: 0.3225 - accuracy: 0.8665 - val_loss: 0.3105 - val_accuracy: 0.8840\n",
      "Epoch 54/100\n",
      "106/106 [==============================] - 0s 1ms/step - loss: 0.3226 - accuracy: 0.8664 - val_loss: 0.3181 - val_accuracy: 0.8773\n",
      "Epoch 55/100\n",
      "106/106 [==============================] - 0s 976us/step - loss: 0.3219 - accuracy: 0.8661 - val_loss: 0.3144 - val_accuracy: 0.8813\n",
      "Epoch 56/100\n",
      "106/106 [==============================] - 0s 964us/step - loss: 0.3220 - accuracy: 0.8698 - val_loss: 0.3190 - val_accuracy: 0.8733\n",
      "Epoch 57/100\n"
     ]
    },
    {
     "name": "stdout",
     "output_type": "stream",
     "text": [
      "106/106 [==============================] - 0s 1ms/step - loss: 0.3217 - accuracy: 0.8664 - val_loss: 0.3128 - val_accuracy: 0.8800\n",
      "Epoch 58/100\n",
      "106/106 [==============================] - 0s 967us/step - loss: 0.3208 - accuracy: 0.8692 - val_loss: 0.3240 - val_accuracy: 0.8733\n",
      "Epoch 59/100\n",
      "106/106 [==============================] - 0s 972us/step - loss: 0.3199 - accuracy: 0.8665 - val_loss: 0.3254 - val_accuracy: 0.8653\n",
      "Epoch 60/100\n",
      "106/106 [==============================] - 0s 1ms/step - loss: 0.3197 - accuracy: 0.8698 - val_loss: 0.3177 - val_accuracy: 0.8800\n",
      "Epoch 61/100\n",
      "106/106 [==============================] - 0s 1ms/step - loss: 0.3196 - accuracy: 0.8681 - val_loss: 0.3106 - val_accuracy: 0.8787\n",
      "Epoch 62/100\n",
      "106/106 [==============================] - 0s 983us/step - loss: 0.3197 - accuracy: 0.8692 - val_loss: 0.3194 - val_accuracy: 0.8707\n",
      "Epoch 63/100\n",
      "106/106 [==============================] - 0s 1ms/step - loss: 0.3196 - accuracy: 0.8670 - val_loss: 0.3156 - val_accuracy: 0.8853\n",
      "Epoch 64/100\n",
      "106/106 [==============================] - 0s 1ms/step - loss: 0.3177 - accuracy: 0.8695 - val_loss: 0.3168 - val_accuracy: 0.8747\n",
      "Epoch 65/100\n",
      "106/106 [==============================] - 0s 1ms/step - loss: 0.3189 - accuracy: 0.8686 - val_loss: 0.3176 - val_accuracy: 0.8747\n",
      "Epoch 66/100\n",
      "106/106 [==============================] - 0s 974us/step - loss: 0.3183 - accuracy: 0.8662 - val_loss: 0.3155 - val_accuracy: 0.8827\n",
      "Epoch 67/100\n",
      "106/106 [==============================] - 0s 998us/step - loss: 0.3171 - accuracy: 0.8699 - val_loss: 0.3154 - val_accuracy: 0.8827\n",
      "Epoch 68/100\n",
      "106/106 [==============================] - 0s 986us/step - loss: 0.3169 - accuracy: 0.8683 - val_loss: 0.3215 - val_accuracy: 0.8733\n",
      "Epoch 69/100\n",
      "106/106 [==============================] - 0s 976us/step - loss: 0.3161 - accuracy: 0.8649 - val_loss: 0.3193 - val_accuracy: 0.8707\n",
      "Epoch 70/100\n",
      "106/106 [==============================] - 0s 983us/step - loss: 0.3164 - accuracy: 0.8720 - val_loss: 0.3187 - val_accuracy: 0.8813\n",
      "Epoch 71/100\n",
      "106/106 [==============================] - 0s 973us/step - loss: 0.3159 - accuracy: 0.8704 - val_loss: 0.3193 - val_accuracy: 0.8773\n",
      "Epoch 72/100\n",
      "106/106 [==============================] - 0s 999us/step - loss: 0.3148 - accuracy: 0.8710 - val_loss: 0.3163 - val_accuracy: 0.8813\n",
      "Epoch 73/100\n",
      "106/106 [==============================] - 0s 993us/step - loss: 0.3151 - accuracy: 0.8707 - val_loss: 0.3193 - val_accuracy: 0.8733\n",
      "Epoch 74/100\n",
      "106/106 [==============================] - 0s 1ms/step - loss: 0.3142 - accuracy: 0.8704 - val_loss: 0.3145 - val_accuracy: 0.8800\n",
      "Epoch 75/100\n",
      "106/106 [==============================] - 0s 995us/step - loss: 0.3150 - accuracy: 0.8690 - val_loss: 0.3197 - val_accuracy: 0.8773\n",
      "Epoch 76/100\n",
      "106/106 [==============================] - 0s 975us/step - loss: 0.3132 - accuracy: 0.8704 - val_loss: 0.3139 - val_accuracy: 0.8800\n",
      "Epoch 77/100\n",
      "106/106 [==============================] - 0s 1ms/step - loss: 0.3138 - accuracy: 0.8714 - val_loss: 0.3149 - val_accuracy: 0.8827\n",
      "Epoch 78/100\n",
      "106/106 [==============================] - 0s 1ms/step - loss: 0.3126 - accuracy: 0.8735 - val_loss: 0.3173 - val_accuracy: 0.8733\n",
      "Epoch 79/100\n",
      "106/106 [==============================] - 0s 993us/step - loss: 0.3124 - accuracy: 0.8720 - val_loss: 0.3214 - val_accuracy: 0.8747\n",
      "Epoch 80/100\n",
      "106/106 [==============================] - 0s 1ms/step - loss: 0.3121 - accuracy: 0.8724 - val_loss: 0.3169 - val_accuracy: 0.8787\n",
      "Epoch 81/100\n",
      "106/106 [==============================] - 0s 1ms/step - loss: 0.3120 - accuracy: 0.8705 - val_loss: 0.3157 - val_accuracy: 0.8760\n",
      "Epoch 82/100\n",
      "106/106 [==============================] - 0s 992us/step - loss: 0.3112 - accuracy: 0.8730 - val_loss: 0.3220 - val_accuracy: 0.8693\n",
      "Epoch 83/100\n",
      "106/106 [==============================] - 0s 1ms/step - loss: 0.3109 - accuracy: 0.8699 - val_loss: 0.3220 - val_accuracy: 0.8640\n",
      "Epoch 84/100\n",
      "106/106 [==============================] - 0s 994us/step - loss: 0.3100 - accuracy: 0.8713 - val_loss: 0.3203 - val_accuracy: 0.8787\n",
      "Epoch 85/100\n",
      "106/106 [==============================] - 0s 975us/step - loss: 0.3100 - accuracy: 0.8747 - val_loss: 0.3192 - val_accuracy: 0.8827\n",
      "Epoch 86/100\n",
      "106/106 [==============================] - 0s 957us/step - loss: 0.3107 - accuracy: 0.8736 - val_loss: 0.3216 - val_accuracy: 0.8733\n",
      "Epoch 87/100\n",
      "106/106 [==============================] - 0s 953us/step - loss: 0.3091 - accuracy: 0.8729 - val_loss: 0.3158 - val_accuracy: 0.8813\n",
      "Epoch 88/100\n",
      "106/106 [==============================] - 0s 1ms/step - loss: 0.3088 - accuracy: 0.8730 - val_loss: 0.3256 - val_accuracy: 0.8733\n",
      "Epoch 89/100\n",
      "106/106 [==============================] - 0s 1ms/step - loss: 0.3090 - accuracy: 0.8744 - val_loss: 0.3178 - val_accuracy: 0.8693\n",
      "Epoch 90/100\n",
      "106/106 [==============================] - 0s 974us/step - loss: 0.3079 - accuracy: 0.8736 - val_loss: 0.3209 - val_accuracy: 0.8720\n",
      "Epoch 91/100\n",
      "106/106 [==============================] - 0s 993us/step - loss: 0.3072 - accuracy: 0.8744 - val_loss: 0.3149 - val_accuracy: 0.8747\n",
      "Epoch 92/100\n",
      "106/106 [==============================] - 0s 1ms/step - loss: 0.3077 - accuracy: 0.8705 - val_loss: 0.3243 - val_accuracy: 0.8667\n",
      "Epoch 93/100\n",
      "106/106 [==============================] - 0s 992us/step - loss: 0.3069 - accuracy: 0.8720 - val_loss: 0.3204 - val_accuracy: 0.8680\n",
      "Epoch 94/100\n",
      "106/106 [==============================] - 0s 989us/step - loss: 0.3062 - accuracy: 0.8747 - val_loss: 0.3175 - val_accuracy: 0.8760\n",
      "Epoch 95/100\n",
      "106/106 [==============================] - 0s 1ms/step - loss: 0.3060 - accuracy: 0.8741 - val_loss: 0.3171 - val_accuracy: 0.8733\n",
      "Epoch 96/100\n",
      "106/106 [==============================] - 0s 997us/step - loss: 0.3052 - accuracy: 0.8736 - val_loss: 0.3198 - val_accuracy: 0.8733\n",
      "Epoch 97/100\n",
      "106/106 [==============================] - 0s 970us/step - loss: 0.3042 - accuracy: 0.8741 - val_loss: 0.3363 - val_accuracy: 0.8707\n",
      "Epoch 98/100\n",
      "106/106 [==============================] - 0s 982us/step - loss: 0.3056 - accuracy: 0.8750 - val_loss: 0.3190 - val_accuracy: 0.8747\n",
      "Epoch 99/100\n",
      "106/106 [==============================] - 0s 1ms/step - loss: 0.3041 - accuracy: 0.8724 - val_loss: 0.3175 - val_accuracy: 0.8827\n",
      "Epoch 100/100\n",
      "106/106 [==============================] - 0s 1ms/step - loss: 0.3043 - accuracy: 0.8724 - val_loss: 0.3212 - val_accuracy: 0.8760\n"
     ]
    },
    {
     "data": {
      "text/plain": [
       "<keras.callbacks.History at 0x7f488811da00>"
      ]
     },
     "execution_count": 20,
     "metadata": {},
     "output_type": "execute_result"
    }
   ],
   "source": [
    "model.fit(x_train,y_train,batch_size=64,validation_split=0.1,epochs=100)"
   ]
  },
  {
   "cell_type": "code",
   "execution_count": 21,
   "id": "cb349c5f",
   "metadata": {},
   "outputs": [
    {
     "name": "stdout",
     "output_type": "stream",
     "text": [
      "79/79 [==============================] - 0s 567us/step\n"
     ]
    }
   ],
   "source": [
    "pred = model.predict(x_test)"
   ]
  },
  {
   "cell_type": "code",
   "execution_count": 22,
   "id": "0117723d",
   "metadata": {},
   "outputs": [],
   "source": [
    "y_pred = []\n",
    "for val in pred:\n",
    "    if val > 0.5:\n",
    "        y_pred.append(1)\n",
    "    else:\n",
    "        y_pred.append(0)"
   ]
  },
  {
   "cell_type": "code",
   "execution_count": 23,
   "id": "ad1f3f74",
   "metadata": {},
   "outputs": [],
   "source": [
    "from sklearn.metrics import accuracy_score,confusion_matrix,ConfusionMatrixDisplay"
   ]
  },
  {
   "cell_type": "code",
   "execution_count": 24,
   "id": "cd6ebb87",
   "metadata": {},
   "outputs": [
    {
     "data": {
      "text/plain": [
       "0.864"
      ]
     },
     "execution_count": 24,
     "metadata": {},
     "output_type": "execute_result"
    }
   ],
   "source": [
    "accuracy_score(y_test,y_pred)"
   ]
  },
  {
   "cell_type": "code",
   "execution_count": 25,
   "id": "bd015e4f",
   "metadata": {},
   "outputs": [
    {
     "data": {
      "text/plain": [
       "<sklearn.metrics._plot.confusion_matrix.ConfusionMatrixDisplay at 0x7f487c0f38e0>"
      ]
     },
     "execution_count": 25,
     "metadata": {},
     "output_type": "execute_result"
    },
    {
     "data": {
      "image/png": "[encoded data removed]",
      "text/plain": [
       "<Figure size 432x288 with 2 Axes>"
      ]
     },
     "metadata": {
      "needs_background": "light"
     },
     "output_type": "display_data"
    }
   ],
   "source": [
    "cm = confusion_matrix(y_test,y_pred)\n",
    "display = ConfusionMatrixDisplay(cm)\n",
    "display.plot()"
   ]
  },
  {
   "cell_type": "code",
   "execution_count": 26,
   "id": "5f667de5",
   "metadata": {},
   "outputs": [],
   "source": [
    "from sklearn.neural_network import MLPClassifier"
   ]
  },
  {
   "cell_type": "code",
   "execution_count": 49,
   "id": "e4efc05b",
   "metadata": {},
   "outputs": [
    {
     "name": "stderr",
     "output_type": "stream",
     "text": [
      "/home/pratik/.local/lib/python3.8/site-packages/sklearn/neural_network/_multilayer_perceptron.py:702: ConvergenceWarning: Stochastic Optimizer: Maximum iterations (300) reached and the optimization hasn't converged yet.\n",
      "  warnings.warn(\n"
     ]
    },
    {
     "data": {
      "text/html": [
       "<style>#sk-container-id-6 {color: black;background-color: white;}#sk-container-id-6 pre{padding: 0;}#sk-container-id-6 div.sk-toggleable {background-color: white;}#sk-container-id-6 label.sk-toggleable__label {cursor: pointer;display: block;width: 100%;margin-bottom: 0;padding: 0.3em;box-sizing: border-box;text-align: center;}#sk-container-id-6 label.sk-toggleable__label-arrow:before {content: \"▸\";float: left;margin-right: 0.25em;color: #696969;}#sk-container-id-6 label.sk-toggleable__label-arrow:hover:before {color: black;}#sk-container-id-6 div.sk-estimator:hover label.sk-toggleable__label-arrow:before {color: black;}#sk-container-id-6 div.sk-toggleable__content {max-height: 0;max-width: 0;overflow: hidden;text-align: left;background-color: #f0f8ff;}#sk-container-id-6 div.sk-toggleable__content pre {margin: 0.2em;color: black;border-radius: 0.25em;background-color: #f0f8ff;}#sk-container-id-6 input.sk-toggleable__control:checked~div.sk-toggleable__content {max-height: 200px;max-width: 100%;overflow: auto;}#sk-container-id-6 input.sk-toggleable__control:checked~label.sk-toggleable__label-arrow:before {content: \"▾\";}#sk-container-id-6 div.sk-estimator input.sk-toggleable__control:checked~label.sk-toggleable__label {background-color: #d4ebff;}#sk-container-id-6 div.sk-label input.sk-toggleable__control:checked~label.sk-toggleable__label {background-color: #d4ebff;}#sk-container-id-6 input.sk-hidden--visually {border: 0;clip: rect(1px 1px 1px 1px);clip: rect(1px, 1px, 1px, 1px);height: 1px;margin: -1px;overflow: hidden;padding: 0;position: absolute;width: 1px;}#sk-container-id-6 div.sk-estimator {font-family: monospace;background-color: #f0f8ff;border: 1px dotted black;border-radius: 0.25em;box-sizing: border-box;margin-bottom: 0.5em;}#sk-container-id-6 div.sk-estimator:hover {background-color: #d4ebff;}#sk-container-id-6 div.sk-parallel-item::after {content: \"\";width: 100%;border-bottom: 1px solid gray;flex-grow: 1;}#sk-container-id-6 div.sk-label:hover label.sk-toggleable__label {background-color: #d4ebff;}#sk-container-id-6 div.sk-serial::before {content: \"\";position: absolute;border-left: 1px solid gray;box-sizing: border-box;top: 0;bottom: 0;left: 50%;z-index: 0;}#sk-container-id-6 div.sk-serial {display: flex;flex-direction: column;align-items: center;background-color: white;padding-right: 0.2em;padding-left: 0.2em;position: relative;}#sk-container-id-6 div.sk-item {position: relative;z-index: 1;}#sk-container-id-6 div.sk-parallel {display: flex;align-items: stretch;justify-content: center;background-color: white;position: relative;}#sk-container-id-6 div.sk-item::before, #sk-container-id-6 div.sk-parallel-item::before {content: \"\";position: absolute;border-left: 1px solid gray;box-sizing: border-box;top: 0;bottom: 0;left: 50%;z-index: -1;}#sk-container-id-6 div.sk-parallel-item {display: flex;flex-direction: column;z-index: 1;position: relative;background-color: white;}#sk-container-id-6 div.sk-parallel-item:first-child::after {align-self: flex-end;width: 50%;}#sk-container-id-6 div.sk-parallel-item:last-child::after {align-self: flex-start;width: 50%;}#sk-container-id-6 div.sk-parallel-item:only-child::after {width: 0;}#sk-container-id-6 div.sk-dashed-wrapped {border: 1px dashed gray;margin: 0 0.4em 0.5em 0.4em;box-sizing: border-box;padding-bottom: 0.4em;background-color: white;}#sk-container-id-6 div.sk-label label {font-family: monospace;font-weight: bold;display: inline-block;line-height: 1.2em;}#sk-container-id-6 div.sk-label-container {text-align: center;}#sk-container-id-6 div.sk-container {/* jupyter's `normalize.less` sets `[hidden] { display: none; }` but bootstrap.min.css set `[hidden] { display: none !important; }` so we also need the `!important` here to be able to override the default hidden behavior on the sphinx rendered scikit-learn.org. See: https://github.com/scikit-learn/scikit-learn/issues/21755 */display: inline-block !important;position: relative;}#sk-container-id-6 div.sk-text-repr-fallback {display: none;}</style><div id=\"sk-container-id-6\" class=\"sk-top-container\"><div class=\"sk-text-repr-fallback\"><pre>MLPClassifier(activation=&#x27;logistic&#x27;, hidden_layer_sizes=100, max_iter=300)</pre><b>In a Jupyter environment, please rerun this cell to show the HTML representation or trust the notebook. <br />On GitHub, the HTML representation is unable to render, please try loading this page with nbviewer.org.</b></div><div class=\"sk-container\" hidden><div class=\"sk-item\"><div class=\"sk-estimator sk-toggleable\"><input class=\"sk-toggleable__control sk-hidden--visually\" id=\"sk-estimator-id-6\" type=\"checkbox\" checked><label for=\"sk-estimator-id-6\" class=\"sk-toggleable__label sk-toggleable__label-arrow\">MLPClassifier</label><div class=\"sk-toggleable__content\"><pre>MLPClassifier(activation=&#x27;logistic&#x27;, hidden_layer_sizes=100, max_iter=300)</pre></div></div></div></div></div>"
      ],
      "text/plain": [
       "MLPClassifier(activation='logistic', hidden_layer_sizes=100, max_iter=300)"
      ]
     },
     "execution_count": 49,
     "metadata": {},
     "output_type": "execute_result"
    }
   ],
   "source": [
    "nn_classifier = MLPClassifier(hidden_layer_sizes=(100),activation='logistic',max_iter=300,)\n",
    "nn_classifier.fit(x_train,y_train)"
   ]
  },
  {
   "cell_type": "code",
   "execution_count": 50,
   "id": "41c06030",
   "metadata": {},
   "outputs": [],
   "source": [
    "y_pred2 = nn_classifier.predict(x_test)"
   ]
  },
  {
   "cell_type": "code",
   "execution_count": 51,
   "id": "c98f26d0",
   "metadata": {},
   "outputs": [
    {
     "data": {
      "text/plain": [
       "0.862"
      ]
     },
     "execution_count": 51,
     "metadata": {},
     "output_type": "execute_result"
    }
   ],
   "source": [
    "accuracy_score(y_pred=y_pred2,y_true=y_test)"
   ]
  },
  {
   "cell_type": "code",
   "execution_count": 52,
   "id": "070d1fbe",
   "metadata": {},
   "outputs": [
    {
     "data": {
      "text/plain": [
       "0.862"
      ]
     },
     "execution_count": 52,
     "metadata": {},
     "output_type": "execute_result"
    }
   ],
   "source": [
    "nn_classifier.score(x_test,y_test)"
   ]
  },
  {
   "cell_type": "markdown",
   "id": "5cbedf7f",
   "metadata": {},
   "source": [
    "Given a bank customer, build a neural network-based classifier that can determine whether\n",
    "they will leave or not in the next 6 months.\n",
    "Dataset Description: The case study is from an open-source dataset from Kaggle.\n",
    "The dataset contains 10,000 sample points with 14 distinct features such as\n",
    "CustomerId, CreditScore, Geography, Gender, Age, Tenure, Balance, etc.\n",
    "Link to the Kaggle project:\n",
    "https://www.kaggle.com/barelydedicated/bank-customer-churn-modeling\n",
    "Perform following steps:\n",
    "1. Read the dataset.\n",
    "2. Distinguish the feature and target set and divide the data set into training and test sets.\n",
    "3. Normalize the train and test data.\n",
    "4. Initialize and build the model. Identify the points of improvement and implement the same.\n",
    "5. Print the accuracy score and confusion matrix (5 points)"
   ]
  },
  {
   "cell_type": "code",
   "execution_count": 1,
   "id": "c3262995",
   "metadata": {},
   "outputs": [
    {
     "name": "stdout",
     "output_type": "stream",
     "text": [
      "Epoch 1/100\n",
      "106/106 [==============================] - 1s 4ms/step - loss: 0.5551 - accuracy: 0.7179 - val_loss: 0.4323 - val_accuracy: 0.8160\n",
      "Epoch 2/100\n",
      "106/106 [==============================] - 0s 2ms/step - loss: 0.4318 - accuracy: 0.8107 - val_loss: 0.4000 - val_accuracy: 0.8267\n",
      "Epoch 3/100\n",
      "106/106 [==============================] - 0s 4ms/step - loss: 0.4122 - accuracy: 0.8201 - val_loss: 0.3835 - val_accuracy: 0.8427\n",
      "Epoch 4/100\n",
      "106/106 [==============================] - 0s 3ms/step - loss: 0.3953 - accuracy: 0.8330 - val_loss: 0.3664 - val_accuracy: 0.8520\n",
      "Epoch 5/100\n",
      "106/106 [==============================] - 0s 4ms/step - loss: 0.3810 - accuracy: 0.8421 - val_loss: 0.3495 - val_accuracy: 0.8640\n",
      "Epoch 6/100\n",
      "106/106 [==============================] - 0s 2ms/step - loss: 0.3706 - accuracy: 0.8446 - val_loss: 0.3403 - val_accuracy: 0.8667\n",
      "Epoch 7/100\n",
      "106/106 [==============================] - 0s 3ms/step - loss: 0.3635 - accuracy: 0.8498 - val_loss: 0.3334 - val_accuracy: 0.8707\n",
      "Epoch 8/100\n",
      "106/106 [==============================] - 0s 2ms/step - loss: 0.3592 - accuracy: 0.8519 - val_loss: 0.3293 - val_accuracy: 0.8680\n",
      "Epoch 9/100\n",
      "106/106 [==============================] - 0s 2ms/step - loss: 0.3547 - accuracy: 0.8504 - val_loss: 0.3238 - val_accuracy: 0.8707\n",
      "Epoch 10/100\n",
      "106/106 [==============================] - 0s 2ms/step - loss: 0.3523 - accuracy: 0.8547 - val_loss: 0.3285 - val_accuracy: 0.8773\n",
      "Epoch 11/100\n",
      "106/106 [==============================] - 0s 3ms/step - loss: 0.3504 - accuracy: 0.8569 - val_loss: 0.3177 - val_accuracy: 0.8720\n",
      "Epoch 12/100\n",
      "106/106 [==============================] - 0s 4ms/step - loss: 0.3483 - accuracy: 0.8567 - val_loss: 0.3183 - val_accuracy: 0.8733\n",
      "Epoch 13/100\n",
      "106/106 [==============================] - 0s 2ms/step - loss: 0.3465 - accuracy: 0.8564 - val_loss: 0.3163 - val_accuracy: 0.8747\n",
      "Epoch 14/100\n",
      "106/106 [==============================] - 0s 2ms/step - loss: 0.3451 - accuracy: 0.8575 - val_loss: 0.3185 - val_accuracy: 0.8787\n",
      "Epoch 15/100\n",
      "106/106 [==============================] - 0s 2ms/step - loss: 0.3443 - accuracy: 0.8579 - val_loss: 0.3210 - val_accuracy: 0.8733\n",
      "Epoch 16/100\n",
      "106/106 [==============================] - 0s 2ms/step - loss: 0.3431 - accuracy: 0.8597 - val_loss: 0.3161 - val_accuracy: 0.8760\n",
      "Epoch 17/100\n",
      "106/106 [==============================] - 0s 3ms/step - loss: 0.3419 - accuracy: 0.8576 - val_loss: 0.3169 - val_accuracy: 0.8813\n",
      "Epoch 18/100\n",
      "106/106 [==============================] - 0s 3ms/step - loss: 0.3415 - accuracy: 0.8578 - val_loss: 0.3157 - val_accuracy: 0.8720\n",
      "Epoch 19/100\n",
      "106/106 [==============================] - 0s 3ms/step - loss: 0.3404 - accuracy: 0.8587 - val_loss: 0.3145 - val_accuracy: 0.8787\n",
      "Epoch 20/100\n",
      "106/106 [==============================] - 0s 2ms/step - loss: 0.3395 - accuracy: 0.8609 - val_loss: 0.3179 - val_accuracy: 0.8813\n",
      "Epoch 21/100\n",
      "106/106 [==============================] - 0s 2ms/step - loss: 0.3393 - accuracy: 0.8590 - val_loss: 0.3146 - val_accuracy: 0.8813\n",
      "Epoch 22/100\n",
      "106/106 [==============================] - 0s 2ms/step - loss: 0.3384 - accuracy: 0.8601 - val_loss: 0.3182 - val_accuracy: 0.8773\n",
      "Epoch 23/100\n",
      "106/106 [==============================] - 0s 3ms/step - loss: 0.3376 - accuracy: 0.8610 - val_loss: 0.3157 - val_accuracy: 0.8773\n",
      "Epoch 24/100\n",
      "106/106 [==============================] - 0s 3ms/step - loss: 0.3370 - accuracy: 0.8585 - val_loss: 0.3168 - val_accuracy: 0.8800\n",
      "Epoch 25/100\n",
      "106/106 [==============================] - 0s 3ms/step - loss: 0.3359 - accuracy: 0.8621 - val_loss: 0.3201 - val_accuracy: 0.8707\n",
      "Epoch 26/100\n",
      "106/106 [==============================] - 0s 3ms/step - loss: 0.3350 - accuracy: 0.8624 - val_loss: 0.3170 - val_accuracy: 0.8760\n",
      "Epoch 27/100\n",
      "106/106 [==============================] - 0s 2ms/step - loss: 0.3352 - accuracy: 0.8639 - val_loss: 0.3118 - val_accuracy: 0.8787\n",
      "Epoch 28/100\n",
      "106/106 [==============================] - 0s 3ms/step - loss: 0.3342 - accuracy: 0.8621 - val_loss: 0.3152 - val_accuracy: 0.8720\n",
      "Epoch 29/100\n",
      "106/106 [==============================] - 0s 3ms/step - loss: 0.3341 - accuracy: 0.8627 - val_loss: 0.3170 - val_accuracy: 0.8733\n",
      "Epoch 30/100\n",
      "106/106 [==============================] - 0s 3ms/step - loss: 0.3336 - accuracy: 0.8636 - val_loss: 0.3151 - val_accuracy: 0.8813\n",
      "Epoch 31/100\n",
      "106/106 [==============================] - 0s 3ms/step - loss: 0.3327 - accuracy: 0.8615 - val_loss: 0.3153 - val_accuracy: 0.8773\n",
      "Epoch 32/100\n",
      "106/106 [==============================] - 0s 3ms/step - loss: 0.3327 - accuracy: 0.8631 - val_loss: 0.3174 - val_accuracy: 0.8760\n",
      "Epoch 33/100\n",
      "106/106 [==============================] - 0s 2ms/step - loss: 0.3321 - accuracy: 0.8622 - val_loss: 0.3154 - val_accuracy: 0.8760\n",
      "Epoch 34/100\n",
      "106/106 [==============================] - 0s 2ms/step - loss: 0.3312 - accuracy: 0.8639 - val_loss: 0.3184 - val_accuracy: 0.8787\n",
      "Epoch 35/100\n",
      "106/106 [==============================] - 0s 2ms/step - loss: 0.3312 - accuracy: 0.8640 - val_loss: 0.3170 - val_accuracy: 0.8773\n",
      "Epoch 36/100\n",
      "106/106 [==============================] - 0s 2ms/step - loss: 0.3309 - accuracy: 0.8633 - val_loss: 0.3181 - val_accuracy: 0.8760\n",
      "Epoch 37/100\n",
      "106/106 [==============================] - 0s 2ms/step - loss: 0.3296 - accuracy: 0.8644 - val_loss: 0.3195 - val_accuracy: 0.8747\n",
      "Epoch 38/100\n",
      "106/106 [==============================] - 0s 3ms/step - loss: 0.3295 - accuracy: 0.8649 - val_loss: 0.3161 - val_accuracy: 0.8760\n",
      "Epoch 39/100\n",
      "106/106 [==============================] - 0s 2ms/step - loss: 0.3289 - accuracy: 0.8621 - val_loss: 0.3140 - val_accuracy: 0.8747\n",
      "Epoch 40/100\n",
      "106/106 [==============================] - 0s 2ms/step - loss: 0.3287 - accuracy: 0.8650 - val_loss: 0.3128 - val_accuracy: 0.8840\n",
      "Epoch 41/100\n",
      "106/106 [==============================] - 0s 2ms/step - loss: 0.3274 - accuracy: 0.8644 - val_loss: 0.3201 - val_accuracy: 0.8747\n",
      "Epoch 42/100\n",
      "106/106 [==============================] - 0s 2ms/step - loss: 0.3272 - accuracy: 0.8639 - val_loss: 0.3187 - val_accuracy: 0.8760\n",
      "Epoch 43/100\n",
      "106/106 [==============================] - 0s 3ms/step - loss: 0.3271 - accuracy: 0.8655 - val_loss: 0.3157 - val_accuracy: 0.8800\n",
      "Epoch 44/100\n",
      "106/106 [==============================] - 0s 2ms/step - loss: 0.3260 - accuracy: 0.8653 - val_loss: 0.3186 - val_accuracy: 0.8747\n",
      "Epoch 45/100\n",
      "106/106 [==============================] - 0s 2ms/step - loss: 0.3256 - accuracy: 0.8637 - val_loss: 0.3145 - val_accuracy: 0.8787\n",
      "Epoch 46/100\n",
      "106/106 [==============================] - 0s 2ms/step - loss: 0.3246 - accuracy: 0.8676 - val_loss: 0.3176 - val_accuracy: 0.8773\n",
      "Epoch 47/100\n",
      "106/106 [==============================] - 0s 2ms/step - loss: 0.3240 - accuracy: 0.8647 - val_loss: 0.3146 - val_accuracy: 0.8720\n",
      "Epoch 48/100\n",
      "106/106 [==============================] - 0s 3ms/step - loss: 0.3239 - accuracy: 0.8649 - val_loss: 0.3147 - val_accuracy: 0.8773\n",
      "Epoch 49/100\n",
      "106/106 [==============================] - 0s 3ms/step - loss: 0.3241 - accuracy: 0.8664 - val_loss: 0.3148 - val_accuracy: 0.8747\n",
      "Epoch 50/100\n",
      "106/106 [==============================] - 0s 3ms/step - loss: 0.3231 - accuracy: 0.8686 - val_loss: 0.3147 - val_accuracy: 0.8760\n",
      "Epoch 51/100\n",
      "106/106 [==============================] - 0s 2ms/step - loss: 0.3226 - accuracy: 0.8664 - val_loss: 0.3156 - val_accuracy: 0.8733\n",
      "Epoch 52/100\n",
      "106/106 [==============================] - 0s 3ms/step - loss: 0.3217 - accuracy: 0.8689 - val_loss: 0.3159 - val_accuracy: 0.8733\n",
      "Epoch 53/100\n",
      "106/106 [==============================] - 0s 2ms/step - loss: 0.3220 - accuracy: 0.8681 - val_loss: 0.3159 - val_accuracy: 0.8720\n",
      "Epoch 54/100\n",
      "106/106 [==============================] - 0s 2ms/step - loss: 0.3209 - accuracy: 0.8661 - val_loss: 0.3127 - val_accuracy: 0.8827\n",
      "Epoch 55/100\n",
      "106/106 [==============================] - 0s 2ms/step - loss: 0.3206 - accuracy: 0.8680 - val_loss: 0.3197 - val_accuracy: 0.8680\n",
      "Epoch 56/100\n",
      "106/106 [==============================] - 0s 2ms/step - loss: 0.3211 - accuracy: 0.8667 - val_loss: 0.3183 - val_accuracy: 0.8680\n",
      "Epoch 57/100\n",
      "106/106 [==============================] - 0s 2ms/step - loss: 0.3199 - accuracy: 0.8676 - val_loss: 0.3178 - val_accuracy: 0.8787\n",
      "Epoch 58/100\n",
      "106/106 [==============================] - 0s 3ms/step - loss: 0.3193 - accuracy: 0.8695 - val_loss: 0.3142 - val_accuracy: 0.8773\n",
      "Epoch 59/100\n",
      "106/106 [==============================] - 0s 3ms/step - loss: 0.3194 - accuracy: 0.8679 - val_loss: 0.3155 - val_accuracy: 0.8720\n",
      "Epoch 60/100\n",
      "106/106 [==============================] - 0s 2ms/step - loss: 0.3181 - accuracy: 0.8689 - val_loss: 0.3170 - val_accuracy: 0.8680\n",
      "Epoch 61/100\n",
      "106/106 [==============================] - 0s 3ms/step - loss: 0.3180 - accuracy: 0.8705 - val_loss: 0.3172 - val_accuracy: 0.8707\n",
      "Epoch 62/100\n",
      "106/106 [==============================] - 0s 3ms/step - loss: 0.3173 - accuracy: 0.8692 - val_loss: 0.3115 - val_accuracy: 0.8773\n",
      "Epoch 63/100\n",
      "106/106 [==============================] - 0s 2ms/step - loss: 0.3163 - accuracy: 0.8699 - val_loss: 0.3168 - val_accuracy: 0.8747\n",
      "Epoch 64/100\n",
      "106/106 [==============================] - 0s 2ms/step - loss: 0.3166 - accuracy: 0.8676 - val_loss: 0.3153 - val_accuracy: 0.8747\n",
      "Epoch 65/100\n",
      "106/106 [==============================] - 0s 3ms/step - loss: 0.3164 - accuracy: 0.8695 - val_loss: 0.3150 - val_accuracy: 0.8813\n",
      "Epoch 66/100\n",
      "106/106 [==============================] - 0s 3ms/step - loss: 0.3159 - accuracy: 0.8701 - val_loss: 0.3229 - val_accuracy: 0.8800\n",
      "Epoch 67/100\n",
      "106/106 [==============================] - 1s 5ms/step - loss: 0.3146 - accuracy: 0.8698 - val_loss: 0.3156 - val_accuracy: 0.8733\n",
      "Epoch 68/100\n",
      "106/106 [==============================] - 0s 3ms/step - loss: 0.3145 - accuracy: 0.8714 - val_loss: 0.3106 - val_accuracy: 0.8747\n",
      "Epoch 69/100\n",
      "106/106 [==============================] - 0s 3ms/step - loss: 0.3160 - accuracy: 0.8695 - val_loss: 0.3156 - val_accuracy: 0.8760\n",
      "Epoch 70/100\n",
      "106/106 [==============================] - 0s 3ms/step - loss: 0.3143 - accuracy: 0.8708 - val_loss: 0.3118 - val_accuracy: 0.8733\n",
      "Epoch 71/100\n",
      "106/106 [==============================] - 0s 4ms/step - loss: 0.3138 - accuracy: 0.8679 - val_loss: 0.3242 - val_accuracy: 0.8720\n",
      "Epoch 72/100\n",
      "106/106 [==============================] - 0s 3ms/step - loss: 0.3138 - accuracy: 0.8708 - val_loss: 0.3133 - val_accuracy: 0.8773\n",
      "Epoch 73/100\n",
      "106/106 [==============================] - 0s 3ms/step - loss: 0.3136 - accuracy: 0.8686 - val_loss: 0.3129 - val_accuracy: 0.8800\n",
      "Epoch 74/100\n",
      "106/106 [==============================] - 0s 3ms/step - loss: 0.3133 - accuracy: 0.8711 - val_loss: 0.3188 - val_accuracy: 0.8707\n",
      "Epoch 75/100\n",
      "106/106 [==============================] - 0s 4ms/step - loss: 0.3134 - accuracy: 0.8726 - val_loss: 0.3185 - val_accuracy: 0.8787\n",
      "Epoch 76/100\n",
      "106/106 [==============================] - 0s 3ms/step - loss: 0.3120 - accuracy: 0.8707 - val_loss: 0.3188 - val_accuracy: 0.8747\n",
      "Epoch 77/100\n",
      "106/106 [==============================] - 0s 3ms/step - loss: 0.3119 - accuracy: 0.8708 - val_loss: 0.3141 - val_accuracy: 0.8760\n",
      "Epoch 78/100\n",
      "106/106 [==============================] - 0s 3ms/step - loss: 0.3120 - accuracy: 0.8716 - val_loss: 0.3170 - val_accuracy: 0.8773\n",
      "Epoch 79/100\n",
      "106/106 [==============================] - 0s 4ms/step - loss: 0.3111 - accuracy: 0.8727 - val_loss: 0.3189 - val_accuracy: 0.8733\n",
      "Epoch 80/100\n",
      "106/106 [==============================] - 0s 3ms/step - loss: 0.3108 - accuracy: 0.8705 - val_loss: 0.3201 - val_accuracy: 0.8787\n",
      "Epoch 81/100\n",
      "106/106 [==============================] - 0s 3ms/step - loss: 0.3108 - accuracy: 0.8721 - val_loss: 0.3155 - val_accuracy: 0.8760\n",
      "Epoch 82/100\n",
      "106/106 [==============================] - 0s 3ms/step - loss: 0.3104 - accuracy: 0.8711 - val_loss: 0.3128 - val_accuracy: 0.8733\n",
      "Epoch 83/100\n",
      "106/106 [==============================] - 0s 4ms/step - loss: 0.3099 - accuracy: 0.8719 - val_loss: 0.3168 - val_accuracy: 0.8747\n",
      "Epoch 84/100\n",
      "106/106 [==============================] - 0s 3ms/step - loss: 0.3097 - accuracy: 0.8701 - val_loss: 0.3160 - val_accuracy: 0.8773\n",
      "Epoch 85/100\n",
      "106/106 [==============================] - 0s 3ms/step - loss: 0.3095 - accuracy: 0.8719 - val_loss: 0.3174 - val_accuracy: 0.8707\n",
      "Epoch 86/100\n",
      "106/106 [==============================] - 0s 3ms/step - loss: 0.3086 - accuracy: 0.8724 - val_loss: 0.3170 - val_accuracy: 0.8800\n",
      "Epoch 87/100\n",
      "106/106 [==============================] - 0s 4ms/step - loss: 0.3094 - accuracy: 0.8739 - val_loss: 0.3186 - val_accuracy: 0.8707\n",
      "Epoch 88/100\n",
      "106/106 [==============================] - 0s 3ms/step - loss: 0.3091 - accuracy: 0.8727 - val_loss: 0.3157 - val_accuracy: 0.8800\n",
      "Epoch 89/100\n",
      "106/106 [==============================] - 0s 3ms/step - loss: 0.3085 - accuracy: 0.8713 - val_loss: 0.3121 - val_accuracy: 0.8773\n",
      "Epoch 90/100\n",
      "106/106 [==============================] - 0s 3ms/step - loss: 0.3078 - accuracy: 0.8727 - val_loss: 0.3182 - val_accuracy: 0.8813\n",
      "Epoch 91/100\n",
      "106/106 [==============================] - 0s 4ms/step - loss: 0.3078 - accuracy: 0.8730 - val_loss: 0.3216 - val_accuracy: 0.8773\n",
      "Epoch 92/100\n",
      "106/106 [==============================] - 0s 3ms/step - loss: 0.3077 - accuracy: 0.8707 - val_loss: 0.3171 - val_accuracy: 0.8707\n",
      "Epoch 93/100\n",
      "106/106 [==============================] - 0s 3ms/step - loss: 0.3073 - accuracy: 0.8708 - val_loss: 0.3185 - val_accuracy: 0.8733\n",
      "Epoch 94/100\n",
      "106/106 [==============================] - 0s 2ms/step - loss: 0.3075 - accuracy: 0.8727 - val_loss: 0.3186 - val_accuracy: 0.8733\n",
      "Epoch 95/100\n",
      "106/106 [==============================] - 0s 2ms/step - loss: 0.3069 - accuracy: 0.8717 - val_loss: 0.3157 - val_accuracy: 0.8787\n",
      "Epoch 96/100\n",
      "106/106 [==============================] - 0s 3ms/step - loss: 0.3065 - accuracy: 0.8742 - val_loss: 0.3169 - val_accuracy: 0.8760\n",
      "Epoch 97/100\n",
      "106/106 [==============================] - 0s 3ms/step - loss: 0.3055 - accuracy: 0.8721 - val_loss: 0.3217 - val_accuracy: 0.8760\n",
      "Epoch 98/100\n",
      "106/106 [==============================] - 0s 2ms/step - loss: 0.3053 - accuracy: 0.8750 - val_loss: 0.3146 - val_accuracy: 0.8827\n",
      "Epoch 99/100\n",
      "106/106 [==============================] - 0s 2ms/step - loss: 0.3066 - accuracy: 0.8720 - val_loss: 0.3150 - val_accuracy: 0.8773\n",
      "Epoch 100/100\n",
      "106/106 [==============================] - 0s 2ms/step - loss: 0.3063 - accuracy: 0.8723 - val_loss: 0.3166 - val_accuracy: 0.8827\n",
      "79/79 [==============================] - 0s 994us/step\n",
      "Neural Network Model Accuracy: 0.8592\n"
     ]
    },
    {
     "data": {
      "image/png": "[encoded data removed]",
      "text/plain": [
       "<Figure size 640x480 with 2 Axes>"
      ]
     },
     "metadata": {},
     "output_type": "display_data"
    },
    {
     "name": "stdout",
     "output_type": "stream",
     "text": [
      "Sklearn Model Accuracy: 0.8648\n"
     ]
    },
    {
     "name": "stderr",
     "output_type": "stream",
     "text": [
      "c:\\Users\\HP\\AppData\\Local\\Programs\\Python\\Python310\\lib\\site-packages\\sklearn\\neural_network\\_multilayer_perceptron.py:699: UserWarning: Training interrupted by user.\n",
      "  warnings.warn(\"Training interrupted by user.\")\n"
     ]
    },
    {
     "data": {
      "image/png": "[encoded data removed]",
      "text/plain": [
       "<Figure size 640x480 with 2 Axes>"
      ]
     },
     "metadata": {},
     "output_type": "display_data"
    }
   ],
   "source": [
    "# Importing necessary libraries\n",
    "import pandas as pd\n",
    "import numpy as np\n",
    "import seaborn as sns\n",
    "import matplotlib.pyplot as plt\n",
    "from sklearn.model_selection import train_test_split\n",
    "from sklearn.preprocessing import StandardScaler\n",
    "from sklearn.metrics import accuracy_score, confusion_matrix, ConfusionMatrixDisplay\n",
    "import tensorflow as tf\n",
    "from tensorflow.keras.models import Sequential\n",
    "from tensorflow.keras.layers import Dense\n",
    "\n",
    "# Step 1: Load the dataset\n",
    "df = pd.read_csv('Churn_Modelling.csv')\n",
    "\n",
    "# Step 2: Data preprocessing - Feature engineering and one-hot encoding\n",
    "df = pd.concat([df, pd.get_dummies(df['Geography'], prefix='Geo')], axis=1)\n",
    "df = pd.concat([df, pd.get_dummies(df['Gender'], drop_first=True)], axis=1)\n",
    "\n",
    "# Dropping unnecessary columns\n",
    "df.drop(columns=['RowNumber', 'CustomerId', 'Surname', 'Geography', 'Gender'], inplace=True)\n",
    "\n",
    "# Step 3: Prepare the feature set (X) and target set (y)\n",
    "y = df['Exited'].values\n",
    "X = df.loc[:, df.columns != 'Exited'].values\n",
    "\n",
    "# Step 4: Split the data into training and testing sets\n",
    "X_train, X_test, y_train, y_test = train_test_split(X, y, test_size=0.25, random_state=20)\n",
    "\n",
    "# Step 5: Normalize the data\n",
    "scaler = StandardScaler()\n",
    "X_train = scaler.fit_transform(X_train)\n",
    "X_test = scaler.transform(X_test)\n",
    "\n",
    "# Step 6: Build the neural network model\n",
    "model = Sequential()\n",
    "model.add(Dense(100, activation='relu', input_shape=(X_train.shape[1],)))  # Input shape matches the number of features\n",
    "model.add(Dense(1, activation='sigmoid'))  # Output layer\n",
    "\n",
    "# Compile the model\n",
    "model.compile(optimizer='adam', loss='BinaryCrossentropy', metrics=['accuracy'])\n",
    "\n",
    "# Train the model\n",
    "model.fit(X_train, y_train, validation_split=0.1, batch_size=64, epochs=100)\n",
    "\n",
    "# Step 7: Make predictions on the test set\n",
    "pred = model.predict(X_test)\n",
    "y_pred = [1 if p > 0.5 else 0 for p in pred]\n",
    "\n",
    "# Step 8: Evaluate the model\n",
    "accuracy = accuracy_score(y_test, y_pred)\n",
    "print(\"Neural Network Model Accuracy:\", accuracy)\n",
    "\n",
    "# Display the confusion matrix\n",
    "cm = confusion_matrix(y_test, y_pred)\n",
    "ConfusionMatrixDisplay(cm).plot()\n",
    "plt.show()\n",
    "\n",
    "# Step 9 (Optional): Try a different classifier (MLPClassifier from sklearn)\n",
    "from sklearn.neural_network import MLPClassifier\n",
    "\n",
    "nn_classifier = MLPClassifier(hidden_layer_sizes=(100), activation='logistic', max_iter=300)\n",
    "nn_classifier.fit(X_train, y_train)\n",
    "y_pred2 = nn_classifier.predict(X_test)\n",
    "\n",
    "# Evaluate the sklearn model\n",
    "accuracy_sklearn = accuracy_score(y_test, y_pred2)\n",
    "print(\"Sklearn Model Accuracy:\", accuracy_sklearn)\n",
    "\n",
    "# Display confusion matrix for sklearn model\n",
    "cm_sklearn = confusion_matrix(y_test, y_pred2)\n",
    "ConfusionMatrixDisplay(cm_sklearn).plot()\n",
    "plt.show()\n"
   ]
  }
 ],
 "metadata": {
  "kernelspec": {
   "display_name": "Python 3",
   "language": "python",
   "name": "python3"
  },
  "language_info": {
   "codemirror_mode": {
    "name": "ipython",
    "version": 3
   },
   "file_extension": ".py",
   "mimetype": "text/x-python",
   "name": "python",
   "nbconvert_exporter": "python",
   "pygments_lexer": "ipython3",
   "version": "3.10.4"
  }
 },
 "nbformat": 4,
 "nbformat_minor": 5
}
